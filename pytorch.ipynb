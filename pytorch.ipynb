{
  "nbformat": 4,
  "nbformat_minor": 0,
  "metadata": {
    "colab": {
      "name": "pytorch.ipynb",
      "version": "0.3.2",
      "provenance": [],
      "collapsed_sections": []
    },
    "kernelspec": {
      "name": "python2",
      "display_name": "Python 2"
    }
  },
  "cells": [
    {
      "cell_type": "markdown",
      "metadata": {
        "colab_type": "text",
        "id": "rHLcriKWLRe4"
      },
      "source": [
        " # PyTorch Basics\n"
      ]
    },
    {
      "cell_type": "markdown",
      "metadata": {
        "colab_type": "text",
        "id": "QvJBqX8_Bctk"
      },
      "source": [
        "## Objective\n",
        "* PyTorch Tensor\n",
        "* Feed-forward neural network implementation using PyTorch"
      ]
    },
    {
      "cell_type": "markdown",
      "metadata": {
        "colab_type": "text",
        "id": "daQreKXIUslr"
      },
      "source": [
        "## PyTorch Tensor \n",
        "### Tensor operation (You can get detailed information of pytorch in [https://pytorch.org](https://pytorch.org))\n",
        "---\n",
        "* ***Create a tensor***\n",
        "\n"
      ]
    },
    {
      "cell_type": "code",
      "metadata": {
        "colab_type": "code",
        "id": "aSRYu62xUi3g",
        "outputId": "c74b28e7-0cc1-46d5-f328-86b568c5899e",
        "colab": {
          "base_uri": "https://localhost:8080/",
          "height": 50
        }
      },
      "source": [
        "import torch\n",
        "torch.IntTensor(2,4).zero_()"
      ],
      "execution_count": 0,
      "outputs": [
        {
          "output_type": "execute_result",
          "data": {
            "text/plain": [
              "tensor([[0, 0, 0, 0],\n",
              "        [0, 0, 0, 0]], dtype=torch.int32)"
            ]
          },
          "metadata": {
            "tags": []
          },
          "execution_count": 1
        }
      ]
    },
    {
      "cell_type": "markdown",
      "metadata": {
        "id": "uBUnPWu1Eljv",
        "colab_type": "text"
      },
      "source": [
        "\n",
        "\n",
        "---\n",
        "\n",
        "\n",
        "* ***Tensor size***"
      ]
    },
    {
      "cell_type": "code",
      "metadata": {
        "id": "B8xBDI05FRYf",
        "colab_type": "code",
        "outputId": "49e683ad-f1b9-4e37-e9e7-4332c19703ba",
        "colab": {
          "base_uri": "https://localhost:8080/",
          "height": 35
        }
      },
      "source": [
        "x = torch.randn(2,4)\n",
        "x.size()"
      ],
      "execution_count": 0,
      "outputs": [
        {
          "output_type": "execute_result",
          "data": {
            "text/plain": [
              "torch.Size([2, 4])"
            ]
          },
          "metadata": {
            "tags": []
          },
          "execution_count": 3
        }
      ]
    },
    {
      "cell_type": "markdown",
      "metadata": {
        "id": "X1gSU7-AFdpG",
        "colab_type": "text"
      },
      "source": [
        "---\n",
        "* ***Tensor type***"
      ]
    },
    {
      "cell_type": "code",
      "metadata": {
        "id": "pAIenxalFhhe",
        "colab_type": "code",
        "outputId": "06d8740c-2b29-4d2a-e784-cd84b361bdf1",
        "colab": {
          "base_uri": "https://localhost:8080/",
          "height": 35
        }
      },
      "source": [
        "x = torch.randn(2,4)\n",
        "x.type()"
      ],
      "execution_count": 0,
      "outputs": [
        {
          "output_type": "execute_result",
          "data": {
            "text/plain": [
              "'torch.FloatTensor'"
            ]
          },
          "metadata": {
            "tags": []
          },
          "execution_count": 5
        }
      ]
    },
    {
      "cell_type": "markdown",
      "metadata": {
        "id": "WmrQY5GFGChX",
        "colab_type": "text"
      },
      "source": [
        "---\n",
        "* ***Squeeze operation***\n",
        "> Returns a tensor with all the dimensions of input of size 1 removed\n",
        "\n"
      ]
    },
    {
      "cell_type": "code",
      "metadata": {
        "id": "8frtBk9MHsZe",
        "colab_type": "code",
        "outputId": "077bbdb4-b18f-4788-e953-d42113e9c95b",
        "colab": {
          "base_uri": "https://localhost:8080/",
          "height": 35
        }
      },
      "source": [
        "x = torch.ones(3,4,1,4,1)\n",
        "x.size()"
      ],
      "execution_count": 0,
      "outputs": [
        {
          "output_type": "execute_result",
          "data": {
            "text/plain": [
              "torch.Size([3, 4, 1, 4, 1])"
            ]
          },
          "metadata": {
            "tags": []
          },
          "execution_count": 6
        }
      ]
    },
    {
      "cell_type": "code",
      "metadata": {
        "id": "vdQebO-cH0gW",
        "colab_type": "code",
        "outputId": "04e5b61f-5084-425d-8197-4468cfdda5de",
        "colab": {
          "base_uri": "https://localhost:8080/",
          "height": 35
        }
      },
      "source": [
        "y = x.squeeze()\n",
        "y.size()"
      ],
      "execution_count": 0,
      "outputs": [
        {
          "output_type": "execute_result",
          "data": {
            "text/plain": [
              "torch.Size([3, 4, 4])"
            ]
          },
          "metadata": {
            "tags": []
          },
          "execution_count": 9
        }
      ]
    },
    {
      "cell_type": "markdown",
      "metadata": {
        "id": "d9GD9pOVH-n3",
        "colab_type": "text"
      },
      "source": [
        "---\n",
        "* ***Unsqueeze operation***\n",
        "> Returns a new tensor with a dimension of size one inserted at the specified position"
      ]
    },
    {
      "cell_type": "code",
      "metadata": {
        "id": "YCEVDFByXcTe",
        "colab_type": "code",
        "outputId": "a7dab8aa-e306-44bc-b3c6-685407e51c97",
        "colab": {
          "base_uri": "https://localhost:8080/",
          "height": 35
        }
      },
      "source": [
        "x = torch.randn(3,2)\n",
        "y = x.unsqueeze(0) \n",
        "y.size()"
      ],
      "execution_count": 0,
      "outputs": [
        {
          "output_type": "execute_result",
          "data": {
            "text/plain": [
              "torch.Size([1, 3, 2])"
            ]
          },
          "metadata": {
            "tags": []
          },
          "execution_count": 3
        }
      ]
    },
    {
      "cell_type": "code",
      "metadata": {
        "id": "FV-vrSYLXp5H",
        "colab_type": "code",
        "outputId": "2e29e56f-4b33-4ad5-dc6a-dd2876e5de91",
        "colab": {
          "base_uri": "https://localhost:8080/",
          "height": 35
        }
      },
      "source": [
        "z = x.unsqueeze(2)\n",
        "z.size()"
      ],
      "execution_count": 0,
      "outputs": [
        {
          "output_type": "execute_result",
          "data": {
            "text/plain": [
              "torch.Size([3, 2, 1])"
            ]
          },
          "metadata": {
            "tags": []
          },
          "execution_count": 4
        }
      ]
    },
    {
      "cell_type": "markdown",
      "metadata": {
        "id": "1WPXVc8-XxKt",
        "colab_type": "text"
      },
      "source": [
        "---\n",
        "* ***Concatenation***\n",
        "> Concatenate the given sequence of tensors in the given dimension"
      ]
    },
    {
      "cell_type": "code",
      "metadata": {
        "id": "1rnVZw3XX6rU",
        "colab_type": "code",
        "outputId": "c909e320-da3e-47cc-ebec-60bb5e0a961e",
        "colab": {
          "base_uri": "https://localhost:8080/",
          "height": 35
        }
      },
      "source": [
        "x = torch.randn(3,2)\n",
        "y = torch.randn(5,2)\n",
        "z = torch.cat([x,y], dim=0)\n",
        "z.size()"
      ],
      "execution_count": 0,
      "outputs": [
        {
          "output_type": "execute_result",
          "data": {
            "text/plain": [
              "torch.Size([8, 2])"
            ]
          },
          "metadata": {
            "tags": []
          },
          "execution_count": 6
        }
      ]
    },
    {
      "cell_type": "markdown",
      "metadata": {
        "id": "ZkxF8WQRYAJu",
        "colab_type": "text"
      },
      "source": [
        "---\n",
        "* ***torch.stack***(seq, dim=0, out=None) → Tensor\n",
        "> Concatenate sequence of tensors along a new dimension \n",
        ">* All tensors need to be of the same size\n",
        "\n",
        "\n",
        "\n",
        "\n",
        "\n",
        "\n",
        "\n"
      ]
    },
    {
      "cell_type": "code",
      "metadata": {
        "id": "zkXerhTtZpr_",
        "colab_type": "code",
        "outputId": "1cd3ac71-0df3-4dfd-b956-42b0abfa6a8e",
        "colab": {
          "base_uri": "https://localhost:8080/",
          "height": 35
        }
      },
      "source": [
        "x = torch.randn(4,2)\n",
        "y = torch.randn(4,2)\n",
        "z = torch.randn(4,2)\n",
        "w = torch.stack([x,y,z], dim=0)\n",
        "w.size()"
      ],
      "execution_count": 0,
      "outputs": [
        {
          "output_type": "execute_result",
          "data": {
            "text/plain": [
              "torch.Size([3, 4, 2])"
            ]
          },
          "metadata": {
            "tags": []
          },
          "execution_count": 8
        }
      ]
    },
    {
      "cell_type": "code",
      "metadata": {
        "id": "w-vElDtHZ2k-",
        "colab_type": "code",
        "outputId": "6c53403c-47bb-4532-b607-3f0fc52e49a0",
        "colab": {
          "base_uri": "https://localhost:8080/",
          "height": 35
        }
      },
      "source": [
        "w = torch.stack([x,y,z], dim=1)\n",
        "w.size()"
      ],
      "execution_count": 0,
      "outputs": [
        {
          "output_type": "execute_result",
          "data": {
            "text/plain": [
              "torch.Size([4, 3, 2])"
            ]
          },
          "metadata": {
            "tags": []
          },
          "execution_count": 9
        }
      ]
    },
    {
      "cell_type": "markdown",
      "metadata": {
        "id": "IxUN5hEyHIQP",
        "colab_type": "text"
      },
      "source": [
        "---\n",
        "* ***torch.chunk***(tensor, chunks, dim=0) → List of Tensors\n",
        ">* Splits a tensor into a specific number of chunks.\n",
        ">* Last chunk will be smaller if the tensor size along the given dimension dim is not divisible by chunks."
      ]
    },
    {
      "cell_type": "code",
      "metadata": {
        "id": "mdYFbShuIZzW",
        "colab_type": "code",
        "outputId": "233dbae5-b5bd-4ad8-c955-7f78c8ca3f6e",
        "colab": {
          "base_uri": "https://localhost:8080/",
          "height": 34
        }
      },
      "source": [
        "x = torch.randn(8,3)\n",
        "y = torch.chunk(x, 4, dim=0)\n",
        "print(len(y), y[0].size())"
      ],
      "execution_count": 0,
      "outputs": [
        {
          "output_type": "stream",
          "text": [
            "(4, torch.Size([2, 3]))\n"
          ],
          "name": "stdout"
        }
      ]
    },
    {
      "cell_type": "markdown",
      "metadata": {
        "colab_type": "text",
        "id": "s_JOISVgmn9v"
      },
      "source": [
        " ## PyTorch 최소 구성 요소\n",
        "* 1) Data\n",
        "* 2) Model\n",
        "* 3) Loss function\n",
        "* 4) Optimizer\n"
      ]
    },
    {
      "cell_type": "markdown",
      "metadata": {
        "id": "5jicFXVm49s1",
        "colab_type": "text"
      },
      "source": [
        "<img src=\"https://raw.githubusercontent.com/YongHoYoo/AnomalyDetection/master/minimum_element.png\" width=\"500\">"
      ]
    },
    {
      "cell_type": "markdown",
      "metadata": {
        "colab_type": "text",
        "id": "fjnAk1xcU0yc"
      },
      "source": [
        "## Implementation of neural network: XOR problem\n",
        "### Define four elements (Data, Model, Loss, Optimizer)\n",
        "---\n",
        "* ***1) Data***"
      ]
    },
    {
      "cell_type": "code",
      "metadata": {
        "colab_type": "code",
        "id": "DFZ42Uq7UFDj",
        "colab": {}
      },
      "source": [
        "num_data = 100 # the number of data to be generated\n",
        "ideal_x = torch.tensor([[0,0], [0,1], [1,0], [1,1]], dtype=torch.float)\n",
        "ideal_y = torch.tensor([0,1,1,0], dtype=torch.float) \n",
        "\n",
        "train_x = []\n",
        "train_y = [] \n",
        "\n",
        "for i in range(num_data): \n",
        "    x = ideal_x[i%4]+0.1*torch.randn(2) \n",
        "    y = ideal_y[i%4] \n",
        "    \n",
        "    train_x.append(x)\n",
        "    train_y.append(y) \n",
        "    \n",
        "train_x = torch.stack(train_x, 0)\n",
        "train_y = torch.stack(train_y, 0)"
      ],
      "execution_count": 0,
      "outputs": []
    },
    {
      "cell_type": "markdown",
      "metadata": {
        "colab_type": "text",
        "id": "U5ouUp1cU6pC"
      },
      "source": [
        "---\n",
        "* ***2) Model***\n",
        "> Input layer (2 neurons) -> Hidden layer (3 neurons + sigmoid) -> Output layer (1 neurons + sigmoid)"
      ]
    },
    {
      "cell_type": "code",
      "metadata": {
        "id": "2PakHBPoFyMv",
        "colab_type": "code",
        "colab": {}
      },
      "source": [
        "# define MyModel class\n",
        "class MyModel(torch.nn.Module): \n",
        "    def __init__(self): \n",
        "      super(MyModel, self).__init__() \n",
        "      \n",
        "      self.layer1 = torch.nn.Linear(2, 3) \n",
        "      self.layer2 = torch.nn.Linear(3, 1) \n",
        "      self.sigmoid = torch.nn.Sigmoid() \n",
        "      \n",
        "    def forward(self, inputs):\n",
        "      \n",
        "      output = self.layer1(inputs) \n",
        "      output = self.sigmoid(output) \n",
        "      output = self.layer2(output) \n",
        "      output = self.sigmoid(output) \n",
        "      \n",
        "      return output\n",
        "      "
      ],
      "execution_count": 0,
      "outputs": []
    },
    {
      "cell_type": "code",
      "metadata": {
        "id": "6CfyYrfwJJsY",
        "colab_type": "code",
        "colab": {}
      },
      "source": [
        "# Generate MyModel instance\n",
        "model = MyModel()"
      ],
      "execution_count": 0,
      "outputs": []
    },
    {
      "cell_type": "markdown",
      "metadata": {
        "colab_type": "text",
        "id": "oa5wfZT7VHJl"
      },
      "source": [
        "---\n",
        "* ***3) Loss***"
      ]
    },
    {
      "cell_type": "code",
      "metadata": {
        "colab_type": "code",
        "id": "avgr6GfiUh8t",
        "colab": {}
      },
      "source": [
        "loss = torch.nn.MSELoss()"
      ],
      "execution_count": 0,
      "outputs": []
    },
    {
      "cell_type": "markdown",
      "metadata": {
        "colab_type": "text",
        "id": "WrkBjfz5kEQu"
      },
      "source": [
        "---\n",
        "* ***4) Optimizer***"
      ]
    },
    {
      "cell_type": "code",
      "metadata": {
        "colab_type": "code",
        "id": "av6RYOraVG1V",
        "colab": {}
      },
      "source": [
        "optimizer = torch.optim.SGD(model.parameters(), lr=1.0)"
      ],
      "execution_count": 0,
      "outputs": []
    },
    {
      "cell_type": "markdown",
      "metadata": {
        "colab_type": "text",
        "id": "w9-Es5Y6laGd"
      },
      "source": [
        "### Train the defined model"
      ]
    },
    {
      "cell_type": "markdown",
      "metadata": {
        "id": "iWuyXCE5XABm",
        "colab_type": "text"
      },
      "source": [
        "* Model consists of weight $W$ & weight gradient $\\Delta W$. \n",
        ">* STEP 1: Initialize $\\Delta W$. \n",
        ">* STEP 2: Get output, $Y = Model(X)$. \n",
        ">* STEP 3: Get error, $Error = (X-\\hat{X})^2$. \n",
        ">* STEP 4: Derive $\\Delta W$ by back-propagation. \n",
        ">* STEP 5: Update weight: $W^{new} = W - \\Delta W$. "
      ]
    },
    {
      "cell_type": "code",
      "metadata": {
        "colab_type": "code",
        "id": "s3ND3bgOkB5k",
        "colab": {}
      },
      "source": [
        "# Set maximum epoch, batch_size \n",
        "num_epochs = 100\n",
        "batch_size = 25\n",
        "\n",
        "for epoch in range(num_epochs):\n",
        "\n",
        "  for i in range(0, 100, batch_size): \n",
        "    inputs = train_x[i:i+batch_size]\n",
        "    targets = train_y[i:i+batch_size] \n",
        "\n",
        "    # Weight update \n",
        "    optimizer.zero_grad() # STEP 1\n",
        "    outputs = model(inputs) # STEP 2\n",
        "    error = loss(outputs.squeeze(), targets) # STEP 3\n",
        "    error.backward() # STEP 4\n",
        "    optimizer.step() # STEP 5"
      ],
      "execution_count": 0,
      "outputs": []
    },
    {
      "cell_type": "markdown",
      "metadata": {
        "id": "J8Q-dWwNXiqo",
        "colab_type": "text"
      },
      "source": [
        "### Plot results"
      ]
    },
    {
      "cell_type": "code",
      "metadata": {
        "colab_type": "code",
        "id": "nqndFVXVlbPN",
        "outputId": "a1342570-3aef-4c95-ceff-aeae3cc63a9a",
        "colab": {
          "base_uri": "https://localhost:8080/",
          "height": 286
        }
      },
      "source": [
        "import matplotlib.pyplot as plt\n",
        "\n",
        "# get outputs\n",
        "output_y = model(train_x).squeeze()\n",
        "output_y\n",
        "output_y = (output_y>0.5).float()\n",
        "\n",
        "# plot \n",
        "fig = plt.figure() \n",
        "ax1 = fig.add_subplot(1, 2, 1) \n",
        "ax2 = fig.add_subplot(1, 2, 2) \n",
        "\n",
        "ax1.scatter(train_x[:, 0], train_x[:, 1], c=train_y)\n",
        "ax2.scatter(train_x[:, 0], train_x[:, 1], c=output_y)"
      ],
      "execution_count": 0,
      "outputs": [
        {
          "output_type": "execute_result",
          "data": {
            "text/plain": [
              "<matplotlib.collections.PathCollection at 0x7fb3937dc210>"
            ]
          },
          "metadata": {
            "tags": []
          },
          "execution_count": 18
        },
        {
          "output_type": "display_data",
          "data": {
            "image/png": "[encoded data removed]",
            "text/plain": [
              "<Figure size 432x288 with 2 Axes>"
            ]
          },
          "metadata": {
            "tags": []
          }
        }
      ]
    },
    {
      "cell_type": "markdown",
      "metadata": {
        "colab_type": "text",
        "id": "XtYZ7114n3b-"
      },
      "source": [
        "## Dataloader"
      ]
    },
    {
      "cell_type": "markdown",
      "metadata": {
        "id": "Ra-wSJwndIGj",
        "colab_type": "text"
      },
      "source": [
        "* Using whole data at once may cause **\"Out of memory\"**\n",
        "* We splitted the whole data into batch whose size is **25**\n",
        ">* If the number of data doesn't divide by the batch size? \n",
        ">* If we need to shuffle the order of data in training phase? \n",
        ">### To handle above conditions, PyTorch provides **\"Dataloader\"**\n",
        "<img src=\"https://raw.githubusercontent.com/YongHoYoo/AnomalyDetection/master/shuffle.png\" width=\"500\">\n",
        "\n",
        "### Define Custom DataLoader\n",
        "\n",
        "* 1) **\\_\\_init\\_\\_(self)**: download, read data, etc. \n",
        "* 2) **\\_\\_getitem\\_\\_(self, index)**: return one item on the index \n",
        "* 3) **\\_\\_len\\_\\_(self)**: return the data length \n"
      ]
    },
    {
      "cell_type": "code",
      "metadata": {
        "colab_type": "code",
        "id": "_TFm7-looBFF",
        "colab": {}
      },
      "source": [
        "from torch.utils.data import Dataset, DataLoader\n",
        "\n",
        "# define custom dataloader\n",
        "class MyDataset(Dataset):\n",
        "  def __init__(self, x, y): # x: inputs, y: outputs\n",
        "    self.x = x\n",
        "    self.y = y\n",
        "    \n",
        "  def __getitem__(self, index): \n",
        "    return self.x[index], self.y[index] \n",
        "  \n",
        "  def __len__(self):\n",
        "    return len(self.x)"
      ],
      "execution_count": 0,
      "outputs": []
    },
    {
      "cell_type": "markdown",
      "metadata": {
        "id": "jjtsGUMtgEBj",
        "colab_type": "text"
      },
      "source": [
        "### Load Custom DataLoader and apply **it**"
      ]
    },
    {
      "cell_type": "code",
      "metadata": {
        "id": "oVrJeeZegAyQ",
        "colab_type": "code",
        "colab": {}
      },
      "source": [
        "dataset = MyDataset(train_x, train_y)\n",
        "train_loader = DataLoader(dataset=dataset, batch_size=25, shuffle=True)"
      ],
      "execution_count": 0,
      "outputs": []
    },
    {
      "cell_type": "code",
      "metadata": {
        "id": "YkVUpJH-glzS",
        "colab_type": "code",
        "colab": {}
      },
      "source": [
        "# Set maximum epoch, batch_size \n",
        "num_epochs = 100\n",
        "\n",
        "for epoch in range(num_epochs):\n",
        "\n",
        "  for inputs, targets in train_loader: \n",
        "\n",
        "    # Weight update \n",
        "    optimizer.zero_grad() # STEP 1\n",
        "    outputs = model(inputs) # STEP 2\n",
        "    error = loss(outputs.squeeze(), targets) # STEP 3\n",
        "    error.backward() # STEP 4\n",
        "    optimizer.step() # STEP 5"
      ],
      "execution_count": 0,
      "outputs": []
    },
    {
      "cell_type": "code",
      "metadata": {
        "id": "bD0U0d3K0dvI",
        "colab_type": "code",
        "colab": {}
      },
      "source": [
        ""
      ],
      "execution_count": 0,
      "outputs": []
    }
  ]
}